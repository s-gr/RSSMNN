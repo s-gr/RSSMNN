{
 "cells": [
  {
   "cell_type": "markdown",
   "metadata": {},
   "source": [
    "# LAB1886 TASK UPDATE\n",
    "***"
   ]
  },
  {
   "cell_type": "markdown",
   "metadata": {},
   "source": [
    "I was very disappointed with the outcome of my work connected to the task you gave me. I tried a lot to get the algorithm running and so focused on getting it to work that I did not have time in the end to really present which steps I took to improve the outcome of my predictive model. As mentioned in the interview, I do not have a lot of experience in running these sort of algorithms, which is why I was often doubting my implementation and checking it several times. But I wanted to understand, what went wrong, so I also tried other algorithms like a random forest, which instantly got better, but still not good enough results. So I decided to really overfit my NN and let it train for over 8 hours but with no real improvement. \n",
    "\n",
    "I then decided to get rid of the entity embedings and return to simple one hot encodings using sci-kit learn preprocessing tools. This also did bring any major improvements. I basically had a loss using the mean aboslute error of 4. In the context of bike rentals, this translates that on average my algorithm was off 4 bike rentals on a specifc station, year and weekday. \n",
    "\n",
    "So I decided to get back to the feature engineering and generate more features out of the date column. In the beginning, I did not do that to be quicker in testing the algorithm.\n",
    "\n",
    "So I took the following featues:\n",
    "- "
   ]
  },
  {
   "cell_type": "code",
   "execution_count": null,
   "metadata": {},
   "outputs": [],
   "source": []
  },
  {
   "cell_type": "code",
   "execution_count": null,
   "metadata": {},
   "outputs": [],
   "source": [
    "%matplotlib inline\n",
    "%reload_ext autoreload\n",
    "%autoreload 2"
   ]
  },
  {
   "cell_type": "code",
   "execution_count": null,
   "metadata": {},
   "outputs": [],
   "source": [
    "import os\n",
    "import folium\n",
    "import numpy as np\n",
    "import pandas as pd\n",
    "import pandas_summary as pdsm\n",
    "from datetime import datetime\n",
    "import seaborn as sbn\n",
    "import matplotlib.pyplot as plt\n",
    "import missingno as msno\n",
    "from sklearn import preprocessing\n",
    "\n",
    "from model import *\n",
    "\n",
    "from IPython.core.display import display, HTML"
   ]
  },
  {
   "cell_type": "code",
   "execution_count": null,
   "metadata": {},
   "outputs": [],
   "source": [
    "PATH = 'dataset/'"
   ]
  },
  {
   "cell_type": "code",
   "execution_count": null,
   "metadata": {},
   "outputs": [],
   "source": []
  },
  {
   "cell_type": "code",
   "execution_count": null,
   "metadata": {},
   "outputs": [],
   "source": []
  },
  {
   "cell_type": "code",
   "execution_count": null,
   "metadata": {},
   "outputs": [],
   "source": []
  },
  {
   "cell_type": "code",
   "execution_count": null,
   "metadata": {},
   "outputs": [],
   "source": []
  },
  {
   "cell_type": "code",
   "execution_count": null,
   "metadata": {},
   "outputs": [],
   "source": []
  },
  {
   "cell_type": "code",
   "execution_count": null,
   "metadata": {},
   "outputs": [],
   "source": []
  }
 ],
 "metadata": {
  "kernelspec": {
   "display_name": "Python 3",
   "language": "python",
   "name": "python3"
  },
  "language_info": {
   "codemirror_mode": {
    "name": "ipython",
    "version": 3
   },
   "file_extension": ".py",
   "mimetype": "text/x-python",
   "name": "python",
   "nbconvert_exporter": "python",
   "pygments_lexer": "ipython3",
   "version": "3.6.8"
  }
 },
 "nbformat": 4,
 "nbformat_minor": 2
}
